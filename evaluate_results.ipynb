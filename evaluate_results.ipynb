{
 "cells": [
  {
   "cell_type": "markdown",
   "metadata": {},
   "source": [
    "## Install Dependencies"
   ]
  },
  {
   "cell_type": "code",
   "execution_count": 41,
   "metadata": {},
   "outputs": [
    {
     "name": "stdout",
     "output_type": "stream",
     "text": [
      "Requirement already satisfied: matplotlib in ./venv/lib/python3.13/site-packages (3.10.0)\n",
      "Requirement already satisfied: contourpy>=1.0.1 in ./venv/lib/python3.13/site-packages (from matplotlib) (1.3.1)\n",
      "Requirement already satisfied: cycler>=0.10 in ./venv/lib/python3.13/site-packages (from matplotlib) (0.12.1)\n",
      "Requirement already satisfied: fonttools>=4.22.0 in ./venv/lib/python3.13/site-packages (from matplotlib) (4.56.0)\n",
      "Requirement already satisfied: kiwisolver>=1.3.1 in ./venv/lib/python3.13/site-packages (from matplotlib) (1.4.8)\n",
      "Requirement already satisfied: numpy>=1.23 in ./venv/lib/python3.13/site-packages (from matplotlib) (2.1.3)\n",
      "Requirement already satisfied: packaging>=20.0 in ./venv/lib/python3.13/site-packages (from matplotlib) (24.2)\n",
      "Requirement already satisfied: pillow>=8 in ./venv/lib/python3.13/site-packages (from matplotlib) (11.1.0)\n",
      "Requirement already satisfied: pyparsing>=2.3.1 in ./venv/lib/python3.13/site-packages (from matplotlib) (3.2.1)\n",
      "Requirement already satisfied: python-dateutil>=2.7 in ./venv/lib/python3.13/site-packages (from matplotlib) (2.9.0.post0)\n",
      "Requirement already satisfied: six>=1.5 in ./venv/lib/python3.13/site-packages (from python-dateutil>=2.7->matplotlib) (1.17.0)\n",
      "\n",
      "\u001b[1m[\u001b[0m\u001b[34;49mnotice\u001b[0m\u001b[1;39;49m]\u001b[0m\u001b[39;49m A new release of pip is available: \u001b[0m\u001b[31;49m25.0\u001b[0m\u001b[39;49m -> \u001b[0m\u001b[32;49m25.0.1\u001b[0m\n",
      "\u001b[1m[\u001b[0m\u001b[34;49mnotice\u001b[0m\u001b[1;39;49m]\u001b[0m\u001b[39;49m To update, run: \u001b[0m\u001b[32;49mpip install --upgrade pip\u001b[0m\n",
      "Note: you may need to restart the kernel to use updated packages.\n"
     ]
    }
   ],
   "source": [
    "%pip install matplotlib\n",
    "\n",
    "import numpy as np\n",
    "from matplotlib import pyplot as plt"
   ]
  },
  {
   "cell_type": "markdown",
   "metadata": {},
   "source": [
    "## Load result data"
   ]
  },
  {
   "cell_type": "code",
   "execution_count": 42,
   "metadata": {},
   "outputs": [],
   "source": [
    "import json \n",
    "\n",
    "with open(\"experiment_results.json\", \"r\") as results_file:\n",
    "    experiments = json.load(results_file)"
   ]
  },
  {
   "cell_type": "code",
   "execution_count": 43,
   "metadata": {},
   "outputs": [
    {
     "name": "stdout",
     "output_type": "stream",
     "text": [
      "available tags: {'reordering_varying_steps', 'varying_redundancy', 'reordering_varying_redundancy', 'varying_gates', 'varying_qubits'}\n"
     ]
    }
   ],
   "source": [
    "available_tags = set([\n",
    "    experiment[\"params\"][\"tag\"] for experiment in experiments\n",
    "])\n",
    "print(\"available tags:\", available_tags)"
   ]
  },
  {
   "cell_type": "markdown",
   "metadata": {},
   "source": [
    "## RQ1: How does the degree of redundancy within a population influence the behavior of the proposed simulation approach?"
   ]
  },
  {
   "cell_type": "code",
   "execution_count": 44,
   "metadata": {},
   "outputs": [
    {
     "name": "stdout",
     "output_type": "stream",
     "text": [
      "Total amount of varying_redundancy experiments: 96\n"
     ]
    }
   ],
   "source": [
    "# Filter out and format experiment results with the varying_redundancy tag\n",
    "\n",
    "vr_experiments = [experiment for experiment in experiments if experiment[\"params\"][\"tag\"] == \"varying_redundancy\"]\n",
    "print(f\"Total amount of varying_redundancy experiments: {len(vr_experiments)}\")"
   ]
  },
  {
   "cell_type": "code",
   "execution_count": 45,
   "metadata": {},
   "outputs": [],
   "source": [
    "# Create a line chart with simulation time on y and redundancy level \n",
    "# on x. One line for the runs with caching enabled, one line for the \n",
    "# runs with cache size 0.\n"
   ]
  },
  {
   "cell_type": "code",
   "execution_count": 46,
   "metadata": {},
   "outputs": [],
   "source": [
    "# Create a stack chart of the durations of different algorithm steps \n",
    "# for all runs where cache size = 100.\n"
   ]
  },
  {
   "cell_type": "code",
   "execution_count": 47,
   "metadata": {},
   "outputs": [],
   "source": [
    "# Create box plots for sequence length and frequency of cached ngrams\n",
    "# at different redundancy levels.\n"
   ]
  },
  {
   "cell_type": "markdown",
   "metadata": {},
   "source": [
    "## RQ2.1: How does the amount of gates in the population influence simulation speed?"
   ]
  },
  {
   "cell_type": "code",
   "execution_count": 48,
   "metadata": {},
   "outputs": [
    {
     "name": "stdout",
     "output_type": "stream",
     "text": [
      "Total amount of varying_qubits experiments: 60\n"
     ]
    }
   ],
   "source": [
    "# Filter out and format experiment results with the varying_qubits tag\n",
    "\n",
    "vq_experiments = [experiment for experiment in experiments if experiment[\"params\"][\"tag\"] == \"varying_qubits\"]\n",
    "print(f\"Total amount of varying_qubits experiments: {len(vq_experiments)}\")"
   ]
  },
  {
   "cell_type": "code",
   "execution_count": 49,
   "metadata": {},
   "outputs": [],
   "source": [
    "# Create a line chart with simulation time on y and qubit count \n",
    "# on x. One line for the runs with caching enabled, one line for the \n",
    "# runs with cache size 0.\n"
   ]
  },
  {
   "cell_type": "markdown",
   "metadata": {},
   "source": [
    "## RQ2.2: How does the amount of qubits per circuit influence simulation speed?"
   ]
  },
  {
   "cell_type": "code",
   "execution_count": 50,
   "metadata": {},
   "outputs": [
    {
     "name": "stdout",
     "output_type": "stream",
     "text": [
      "Total amount of varying_gates experiments: 100\n"
     ]
    }
   ],
   "source": [
    "# Filter out and format experiment results with the varying_gates tag\n",
    "\n",
    "vg_experiments = [experiment for experiment in experiments if experiment[\"params\"][\"tag\"] == \"varying_gates\"]\n",
    "print(f\"Total amount of varying_gates experiments: {len(vg_experiments)}\")"
   ]
  },
  {
   "cell_type": "code",
   "execution_count": 51,
   "metadata": {},
   "outputs": [],
   "source": [
    "# Create a line chart with simulation time on y and gate count per circuit \n",
    "# on x. One line for the runs with caching enabled, one line for the \n",
    "# runs with cache size 0.\n"
   ]
  },
  {
   "cell_type": "markdown",
   "metadata": {},
   "source": [
    "## RQ3.1: How does the amount of reordering steps influence simulation speed?"
   ]
  },
  {
   "cell_type": "code",
   "execution_count": 52,
   "metadata": {},
   "outputs": [
    {
     "name": "stdout",
     "output_type": "stream",
     "text": [
      "Total amount of reordering_varying_steps experiments: 55\n"
     ]
    }
   ],
   "source": [
    "# Filter out and format experiment results with the reordering_varying_steps tag\n",
    "\n",
    "rvs_experiments = [experiment for experiment in experiments if experiment[\"params\"][\"tag\"] == \"reordering_varying_steps\"]\n",
    "print(f\"Total amount of reordering_varying_steps experiments: {len(rvs_experiments)}\")"
   ]
  },
  {
   "cell_type": "code",
   "execution_count": 53,
   "metadata": {},
   "outputs": [],
   "source": [
    "# Create a line chart with simulation time on y and reordering step count \n",
    "# on x. \n"
   ]
  },
  {
   "cell_type": "markdown",
   "metadata": {},
   "source": [
    "## RQ3.2: How does the amount of reordering steps influence the lengths and frequencies of the cached gate sequences?"
   ]
  },
  {
   "cell_type": "code",
   "execution_count": 54,
   "metadata": {},
   "outputs": [
    {
     "name": "stdout",
     "output_type": "stream",
     "text": [
      "Total amount of reordering_varying_redundancy experiments: 40\n"
     ]
    }
   ],
   "source": [
    "# Filter out and format experiment results with the reordering_varying_redundancy tag\n",
    "\n",
    "rvr_experiments = [experiment for experiment in experiments if experiment[\"params\"][\"tag\"] == \"reordering_varying_redundancy\"]\n",
    "print(f\"Total amount of reordering_varying_redundancy experiments: {len(rvr_experiments)}\")"
   ]
  },
  {
   "cell_type": "code",
   "execution_count": 55,
   "metadata": {},
   "outputs": [],
   "source": [
    "# TBD: How to best visualize change in redundancy depending on starting redundancy"
   ]
  },
  {
   "cell_type": "code",
   "execution_count": 56,
   "metadata": {},
   "outputs": [],
   "source": [
    "# Create box plots for sequence length and frequency of cached ngrams\n",
    "# at different reordering step counts.\n"
   ]
  }
 ],
 "metadata": {
  "kernelspec": {
   "display_name": "venv",
   "language": "python",
   "name": "python3"
  },
  "language_info": {
   "codemirror_mode": {
    "name": "ipython",
    "version": 3
   },
   "file_extension": ".py",
   "mimetype": "text/x-python",
   "name": "python",
   "nbconvert_exporter": "python",
   "pygments_lexer": "ipython3",
   "version": "3.13.2"
  }
 },
 "nbformat": 4,
 "nbformat_minor": 4
}
