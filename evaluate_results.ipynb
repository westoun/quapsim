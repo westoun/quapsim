{
 "cells": [
  {
   "cell_type": "code",
   "execution_count": null,
   "metadata": {},
   "outputs": [],
   "source": []
  },
  {
   "cell_type": "markdown",
   "metadata": {},
   "source": [
    "## Load result data"
   ]
  },
  {
   "cell_type": "code",
   "execution_count": 23,
   "metadata": {},
   "outputs": [],
   "source": [
    "import json \n",
    "\n",
    "with open(\"experiment_results.json\", \"r\") as results_file:\n",
    "    experiments = json.load(results_file)"
   ]
  },
  {
   "cell_type": "code",
   "execution_count": 24,
   "metadata": {},
   "outputs": [
    {
     "name": "stdout",
     "output_type": "stream",
     "text": [
      "available tags: {'reordering_varying_steps', 'varying_redundancy', 'reordering_varying_redundancy', 'varying_gates', 'varying_qubits'}\n"
     ]
    }
   ],
   "source": [
    "available_tags = set([\n",
    "    experiment[\"params\"][\"tag\"] for experiment in experiments\n",
    "])\n",
    "print(\"available tags:\", available_tags)"
   ]
  },
  {
   "cell_type": "markdown",
   "metadata": {},
   "source": [
    "## RQ1: How does the degree of redundancy within a population influence the behavior of the proposed simulation approach?"
   ]
  },
  {
   "cell_type": "code",
   "execution_count": 25,
   "metadata": {},
   "outputs": [
    {
     "name": "stdout",
     "output_type": "stream",
     "text": [
      "Total amount of varying_redundancy experiments: 96\n"
     ]
    }
   ],
   "source": [
    "# Filter out and format experiment results with the varying_redundancy tag\n",
    "\n",
    "vr_experiments = [experiment for experiment in experiments if experiment[\"params\"][\"tag\"] == \"varying_redundancy\"]\n",
    "print(f\"Total amount of varying_redundancy experiments: {len(vr_experiments)}\")"
   ]
  },
  {
   "cell_type": "code",
   "execution_count": 26,
   "metadata": {},
   "outputs": [],
   "source": [
    "# Create a line chart with simulation time on y and redundancy level \n",
    "# on x. One line for the runs with caching enabled, one line for the \n",
    "# runs with cache size 0.\n"
   ]
  },
  {
   "cell_type": "code",
   "execution_count": 27,
   "metadata": {},
   "outputs": [],
   "source": [
    "# Create a stack chart of the durations of different algorithm steps \n",
    "# for all runs where cache size = 100.\n"
   ]
  },
  {
   "cell_type": "code",
   "execution_count": 28,
   "metadata": {},
   "outputs": [],
   "source": [
    "# Create box plots for sequence length and frequency of cached ngrams\n",
    "# at different redundancy levels.\n"
   ]
  },
  {
   "cell_type": "markdown",
   "metadata": {},
   "source": [
    "## RQ2.1: How does the amount of gates in the population influence simulation speed?"
   ]
  },
  {
   "cell_type": "code",
   "execution_count": 29,
   "metadata": {},
   "outputs": [
    {
     "name": "stdout",
     "output_type": "stream",
     "text": [
      "Total amount of varying_qubits experiments: 60\n"
     ]
    }
   ],
   "source": [
    "# Filter out and format experiment results with the varying_qubits tag\n",
    "\n",
    "vq_experiments = [experiment for experiment in experiments if experiment[\"params\"][\"tag\"] == \"varying_qubits\"]\n",
    "print(f\"Total amount of varying_qubits experiments: {len(vq_experiments)}\")"
   ]
  },
  {
   "cell_type": "code",
   "execution_count": 30,
   "metadata": {},
   "outputs": [],
   "source": [
    "# Create a line chart with simulation time on y and qubit count \n",
    "# on x. One line for the runs with caching enabled, one line for the \n",
    "# runs with cache size 0.\n"
   ]
  },
  {
   "cell_type": "markdown",
   "metadata": {},
   "source": [
    "## RQ2.2: How does the amount of qubits per circuit influence simulation speed?"
   ]
  },
  {
   "cell_type": "code",
   "execution_count": 31,
   "metadata": {},
   "outputs": [
    {
     "name": "stdout",
     "output_type": "stream",
     "text": [
      "Total amount of varying_gates experiments: 100\n"
     ]
    }
   ],
   "source": [
    "# Filter out and format experiment results with the varying_gates tag\n",
    "\n",
    "vg_experiments = [experiment for experiment in experiments if experiment[\"params\"][\"tag\"] == \"varying_gates\"]\n",
    "print(f\"Total amount of varying_gates experiments: {len(vg_experiments)}\")"
   ]
  },
  {
   "cell_type": "code",
   "execution_count": 32,
   "metadata": {},
   "outputs": [],
   "source": [
    "# Create a line chart with simulation time on y and gate count per circuit \n",
    "# on x. One line for the runs with caching enabled, one line for the \n",
    "# runs with cache size 0.\n"
   ]
  },
  {
   "cell_type": "markdown",
   "metadata": {},
   "source": [
    "## RQ3.1: How does the amount of reordering steps influence simulation speed?"
   ]
  },
  {
   "cell_type": "code",
   "execution_count": 33,
   "metadata": {},
   "outputs": [
    {
     "name": "stdout",
     "output_type": "stream",
     "text": [
      "Total amount of reordering_varying_steps experiments: 55\n"
     ]
    }
   ],
   "source": [
    "# Filter out and format experiment results with the reordering_varying_steps tag\n",
    "\n",
    "rvs_experiments = [experiment for experiment in experiments if experiment[\"params\"][\"tag\"] == \"reordering_varying_steps\"]\n",
    "print(f\"Total amount of reordering_varying_steps experiments: {len(rvs_experiments)}\")"
   ]
  },
  {
   "cell_type": "code",
   "execution_count": 34,
   "metadata": {},
   "outputs": [],
   "source": [
    "# Create a line chart with simulation time on y and reordering step count \n",
    "# on x. \n"
   ]
  },
  {
   "cell_type": "markdown",
   "metadata": {},
   "source": [
    "## RQ3.2: How does the amount of reordering steps influence the lengths and frequencies of the cached gate sequences?"
   ]
  },
  {
   "cell_type": "code",
   "execution_count": 35,
   "metadata": {},
   "outputs": [
    {
     "name": "stdout",
     "output_type": "stream",
     "text": [
      "Total amount of reordering_varying_redundancy experiments: 40\n"
     ]
    }
   ],
   "source": [
    "# Filter out and format experiment results with the reordering_varying_redundancy tag\n",
    "\n",
    "rvr_experiments = [experiment for experiment in experiments if experiment[\"params\"][\"tag\"] == \"reordering_varying_redundancy\"]\n",
    "print(f\"Total amount of reordering_varying_redundancy experiments: {len(rvr_experiments)}\")"
   ]
  },
  {
   "cell_type": "code",
   "execution_count": 36,
   "metadata": {},
   "outputs": [],
   "source": [
    "# TBD: How to best visualize change in redundancy depending on starting redundancy"
   ]
  },
  {
   "cell_type": "code",
   "execution_count": 37,
   "metadata": {},
   "outputs": [],
   "source": [
    "# Create box plots for sequence length and frequency of cached ngrams\n",
    "# at different reordering step counts.\n"
   ]
  }
 ],
 "metadata": {
  "kernelspec": {
   "display_name": "venv",
   "language": "python",
   "name": "python3"
  },
  "language_info": {
   "codemirror_mode": {
    "name": "ipython",
    "version": 3
   },
   "file_extension": ".py",
   "mimetype": "text/x-python",
   "name": "python",
   "nbconvert_exporter": "python",
   "pygments_lexer": "ipython3",
   "version": "3.13.2"
  }
 },
 "nbformat": 4,
 "nbformat_minor": 4
}
